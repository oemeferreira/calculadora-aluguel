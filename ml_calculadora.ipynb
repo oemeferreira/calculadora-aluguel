{
 "cells": [
  {
   "cell_type": "markdown",
   "metadata": {
    "id": "owMwndsSVhGu"
   },
   "source": [
    "# Importando pacotes e módulos"
   ]
  },
  {
   "cell_type": "code",
   "execution_count": 1,
   "metadata": {
    "id": "rCZBy_vlI4AW"
   },
   "outputs": [],
   "source": [
    "import pandas as pd\n",
    "import numpy as np\n",
    "from sklearn.model_selection import train_test_split\n",
    "from sklearn.linear_model import LinearRegression\n",
    "from sklearn.neighbors import KNeighborsRegressor\n",
    "from sklearn.tree import DecisionTreeRegressor, plot_tree\n",
    "from sklearn.metrics import r2_score, mean_squared_error, mean_absolute_error\n",
    "import matplotlib.pyplot as plt\n",
    "from sklearn.ensemble import RandomForestRegressor\n",
    "from sklearn.model_selection import GridSearchCV, cross_val_score\n",
    "from sklearn.dummy import DummyRegressor"
   ]
  },
  {
   "cell_type": "markdown",
   "metadata": {
    "id": "oPyat1siWkzt"
   },
   "source": [
    "# Declarando constantes"
   ]
  },
  {
   "cell_type": "code",
   "execution_count": 2,
   "metadata": {
    "id": "EIhILW9rWjx6"
   },
   "outputs": [],
   "source": [
    "SEED = 42 # semente aleatória"
   ]
  },
  {
   "cell_type": "markdown",
   "metadata": {
    "id": "98aJT7f3V-Ww"
   },
   "source": [
    "# Carregando e salvando o arquivo de dados"
   ]
  },
  {
   "cell_type": "code",
   "execution_count": 13,
   "metadata": {
    "id": "_ELOWycFdgKs"
   },
   "outputs": [],
   "source": [
    "df = pd.read_csv('full_limpo.csv')\n",
    "\n",
    "df[\"garages\"] = df['garages'].astype(int)\n",
    "df[\"price\"] = df['price'].astype(float)\n",
    "\n",
    "df['finalprice'] = df['price'] + df['condo']"
   ]
  },
  {
   "cell_type": "code",
   "execution_count": 14,
   "metadata": {},
   "outputs": [],
   "source": [
    "# Retirando colunas desnecessárias\n",
    "\n",
    "df = df.drop(columns=['id'])\n",
    "df = df.drop(columns=['url'])\n",
    "df = df.drop(columns=['header'])\n",
    "df = df.drop(columns=['address'])\n",
    "df = df.drop(columns=['amenities'])\n",
    "df = df.drop(columns=['crawler'])\n",
    "df = df.drop(columns=['crawled_at'])\n",
    "df = df.drop(columns=['condo'])\n",
    "df = df.drop(columns=['price'])"
   ]
  },
  {
   "cell_type": "code",
   "execution_count": 15,
   "metadata": {},
   "outputs": [
    {
     "name": "stdout",
     "output_type": "stream",
     "text": [
      "     area  rooms  bathrooms  garages            neighborhood  finalprice\n",
      "0      49      1          2        1                  Centro      1533.0\n",
      "1      75      2          2        1   Mansões Santo Antônio      3200.0\n",
      "2     103      3          3        2              Swiss Park      4500.0\n",
      "3      72      2          1        1          Jardim Proença      1400.0\n",
      "4      70      2          2        2                      SP      3769.0\n",
      "..    ...    ...        ...      ...                     ...         ...\n",
      "171    61      1          1        1                      SP      1800.0\n",
      "172    42      1          1        1            Vila Itapura      2850.0\n",
      "173   162      3          5        3            Parque Prado     11050.0\n",
      "174    78      2          2        0                  Centro      1740.0\n",
      "175    51      1          2        1                  Cambuí      3446.0\n",
      "\n",
      "[176 rows x 6 columns]\n"
     ]
    }
   ],
   "source": [
    "print(df)"
   ]
  },
  {
   "cell_type": "markdown",
   "metadata": {
    "id": "9E9ZbdE2WG2S"
   },
   "source": [
    "# Dividindo o arquivo entre X (dados que colocaremos no modelo) e y (dados que vamos prever)"
   ]
  },
  {
   "cell_type": "code",
   "execution_count": 16,
   "metadata": {
    "id": "5aJAOg5pd3MR"
   },
   "outputs": [],
   "source": [
    "X = df.drop('finalprice', axis=1)\n",
    "y = df['finalprice']"
   ]
  },
  {
   "cell_type": "code",
   "execution_count": 17,
   "metadata": {
    "colab": {
     "base_uri": "https://localhost:8080/",
     "height": 0
    },
    "id": "q4bWfy_Pd_vA",
    "outputId": "a8a974ff-b795-49eb-8e16-25fc33e8b9a1"
   },
   "outputs": [
    {
     "data": {
      "text/html": [
       "<div>\n",
       "<style scoped>\n",
       "    .dataframe tbody tr th:only-of-type {\n",
       "        vertical-align: middle;\n",
       "    }\n",
       "\n",
       "    .dataframe tbody tr th {\n",
       "        vertical-align: top;\n",
       "    }\n",
       "\n",
       "    .dataframe thead th {\n",
       "        text-align: right;\n",
       "    }\n",
       "</style>\n",
       "<table border=\"1\" class=\"dataframe\">\n",
       "  <thead>\n",
       "    <tr style=\"text-align: right;\">\n",
       "      <th></th>\n",
       "      <th>area</th>\n",
       "      <th>rooms</th>\n",
       "      <th>bathrooms</th>\n",
       "      <th>garages</th>\n",
       "      <th>neighborhood</th>\n",
       "    </tr>\n",
       "  </thead>\n",
       "  <tbody>\n",
       "    <tr>\n",
       "      <th>0</th>\n",
       "      <td>49</td>\n",
       "      <td>1</td>\n",
       "      <td>2</td>\n",
       "      <td>1</td>\n",
       "      <td>Centro</td>\n",
       "    </tr>\n",
       "    <tr>\n",
       "      <th>1</th>\n",
       "      <td>75</td>\n",
       "      <td>2</td>\n",
       "      <td>2</td>\n",
       "      <td>1</td>\n",
       "      <td>Mansões Santo Antônio</td>\n",
       "    </tr>\n",
       "    <tr>\n",
       "      <th>2</th>\n",
       "      <td>103</td>\n",
       "      <td>3</td>\n",
       "      <td>3</td>\n",
       "      <td>2</td>\n",
       "      <td>Swiss Park</td>\n",
       "    </tr>\n",
       "    <tr>\n",
       "      <th>3</th>\n",
       "      <td>72</td>\n",
       "      <td>2</td>\n",
       "      <td>1</td>\n",
       "      <td>1</td>\n",
       "      <td>Jardim Proença</td>\n",
       "    </tr>\n",
       "    <tr>\n",
       "      <th>4</th>\n",
       "      <td>70</td>\n",
       "      <td>2</td>\n",
       "      <td>2</td>\n",
       "      <td>2</td>\n",
       "      <td>SP</td>\n",
       "    </tr>\n",
       "  </tbody>\n",
       "</table>\n",
       "</div>"
      ],
      "text/plain": [
       "   area  rooms  bathrooms  garages            neighborhood\n",
       "0    49      1          2        1                  Centro\n",
       "1    75      2          2        1   Mansões Santo Antônio\n",
       "2   103      3          3        2              Swiss Park\n",
       "3    72      2          1        1          Jardim Proença\n",
       "4    70      2          2        2                      SP"
      ]
     },
     "execution_count": 17,
     "metadata": {},
     "output_type": "execute_result"
    }
   ],
   "source": [
    "X.head()"
   ]
  },
  {
   "cell_type": "code",
   "execution_count": 18,
   "metadata": {
    "colab": {
     "base_uri": "https://localhost:8080/"
    },
    "id": "gNul8MrLcfqr",
    "outputId": "75ac3761-3688-4ee9-c65e-387088ff1877"
   },
   "outputs": [
    {
     "data": {
      "text/plain": [
       "0    1533.0\n",
       "1    3200.0\n",
       "2    4500.0\n",
       "3    1400.0\n",
       "4    3769.0\n",
       "Name: finalprice, dtype: float64"
      ]
     },
     "execution_count": 18,
     "metadata": {},
     "output_type": "execute_result"
    }
   ],
   "source": [
    "y.head()"
   ]
  },
  {
   "cell_type": "markdown",
   "metadata": {
    "id": "ufMnJcUwWV2S"
   },
   "source": [
    "## Fazendo o one hot encoding das variáveis catgóricas de Zona"
   ]
  },
  {
   "cell_type": "code",
   "execution_count": 19,
   "metadata": {
    "colab": {
     "base_uri": "https://localhost:8080/"
    },
    "id": "f30uWa8_lI6W",
    "outputId": "49633af8-cfa5-46eb-8b61-96582eef4af3"
   },
   "outputs": [
    {
     "data": {
      "text/plain": [
       "array([' Centro', ' Mansões Santo Antônio', ' Swiss Park',\n",
       "       ' Jardim Proença', ' SP', ' Cambuí', ' Chácara da Barra', ' Swift',\n",
       "       ' Parque Dom Pedro II', ' Guanabara', ' Bonfim', ' Vila Itapura',\n",
       "       ' Chácara Primavera', ' Jardim Nova Europa', ' Vila Marieta',\n",
       "       ' Recanto do Sol I', ' Vila Padre Manoel de Nóbrega',\n",
       "       ' Jardim Márcia', ' Bosque', ' Parque Itália', ' Vila João Jorge',\n",
       "       ' Jardim Von Zuben', ' Parque Prado', ' Jardim Guarani',\n",
       "       ' Vila Estanislau', ' Botafogo', ' Jardim das Bandeiras',\n",
       "       ' Fazenda São Quirino', ' Vila Industrial', ' Jardim Madalena',\n",
       "       ' Parque das Universidades', ' São Bernardo', ' Jardim Florence',\n",
       "       ' Fazenda Santa Cândida', ' Jardim Flamboyant', ' Ponte Preta',\n",
       "       ' Jardim Antonio Von Zuben', ' Taquaral', ' Jardim Paulistano',\n",
       "       ' Jardim Leonor', ' Loteamento Country Ville', ' Jardim Chapadão',\n",
       "       ' Jardim São Gabriel', ' Parque Brasília', ' Parque Industrial',\n",
       "       ' Jardim do Lago II', ' Parque Taquaral', ' Parque Jambeiro'],\n",
       "      dtype=object)"
      ]
     },
     "execution_count": 19,
     "metadata": {},
     "output_type": "execute_result"
    }
   ],
   "source": [
    "X['neighborhood'].unique()"
   ]
  },
  {
   "cell_type": "code",
   "execution_count": 20,
   "metadata": {
    "id": "QsSQquHPntWb"
   },
   "outputs": [],
   "source": [
    "X = pd.get_dummies(X)"
   ]
  },
  {
   "cell_type": "markdown",
   "metadata": {
    "id": "WpHIA_8BWyL0"
   },
   "source": [
    "# Dividindo os dados entre treino e teste"
   ]
  },
  {
   "cell_type": "code",
   "execution_count": 21,
   "metadata": {
    "id": "65AyIa6ghcg6"
   },
   "outputs": [],
   "source": [
    "X_treino, X_teste, y_treino, y_teste = train_test_split(X, y, \n",
    "                                                        test_size=0.2, \n",
    "                                                        train_size=0.8, \n",
    "                                                        random_state=SEED)"
   ]
  },
  {
   "cell_type": "markdown",
   "metadata": {
    "id": "5NFzxvFOJsaE"
   },
   "source": [
    "# Fazendo a transformação para log + 1 dos dados de treino"
   ]
  },
  {
   "cell_type": "code",
   "execution_count": 22,
   "metadata": {
    "id": "qT9z3MVcJ08U"
   },
   "outputs": [],
   "source": [
    "X_treino = np.log1p(X_treino)\n",
    "y_treino = np.log1p(y_treino)"
   ]
  },
  {
   "cell_type": "markdown",
   "metadata": {
    "id": "jvEeXS_GD23L"
   },
   "source": [
    "# Usando um modelo de base (baseline)"
   ]
  },
  {
   "cell_type": "code",
   "execution_count": 23,
   "metadata": {
    "id": "LjmPMV-SECMZ"
   },
   "outputs": [],
   "source": [
    "baseline = DummyRegressor(strategy='mean')\n",
    "baseline.fit(X_treino, y_treino)\n",
    "y_pred_base = baseline.predict(np.log1p(X_teste))"
   ]
  },
  {
   "cell_type": "code",
   "execution_count": 24,
   "metadata": {
    "colab": {
     "base_uri": "https://localhost:8080/"
    },
    "id": "khzc3PyxEsKn",
    "outputId": "4d380119-4382-4c6e-ab74-9da0eb36d9d5"
   },
   "outputs": [
    {
     "name": "stdout",
     "output_type": "stream",
     "text": [
      "O R² do modelo de base que sempre prevê a média é: -0.11014263616568942\n"
     ]
    }
   ],
   "source": [
    "print('O R² do modelo de base que sempre prevê a média é:', baseline.score(np.log1p(X_teste), np.log1p(y_teste)))"
   ]
  },
  {
   "cell_type": "markdown",
   "metadata": {
    "id": "SscZeK99W6--"
   },
   "source": [
    "# Aplicando um modelo de Regressão Linear"
   ]
  },
  {
   "cell_type": "code",
   "execution_count": 25,
   "metadata": {
    "id": "dPyA2ZmzjM2l"
   },
   "outputs": [],
   "source": [
    "reg = LinearRegression()\n",
    "reg.fit(X_treino, y_treino)\n",
    "y_pred = reg.predict(np.log1p(X_teste))"
   ]
  },
  {
   "cell_type": "code",
   "execution_count": 30,
   "metadata": {
    "colab": {
     "base_uri": "https://localhost:8080/"
    },
    "id": "qraB3qp8mfOy",
    "outputId": "d8e5be7d-047a-4006-869a-7e45529c788c"
   },
   "outputs": [
    {
     "data": {
      "text/plain": [
       "-4.2089587209352826e+23"
      ]
     },
     "execution_count": 30,
     "metadata": {},
     "output_type": "execute_result"
    }
   ],
   "source": [
    "reg.score(np.log1p(X_teste), np.log1p(y_teste)) "
   ]
  },
  {
   "cell_type": "code",
   "execution_count": 31,
   "metadata": {
    "colab": {
     "base_uri": "https://localhost:8080/"
    },
    "id": "XLqVHvV-vMwS",
    "outputId": "83a421e0-4a6a-446f-e609-6079e5a94510"
   },
   "outputs": [
    {
     "data": {
      "text/plain": [
       "array([ 5.72251419e-01, -1.47054825e-01,  2.69952777e-01,  6.26859089e-01,\n",
       "        4.97511823e+12, -2.74680809e+11, -2.74680809e+11, -2.74680809e+11,\n",
       "       -2.74680809e+11, -1.79126583e+11, -2.74680809e+11, -2.74680809e+11,\n",
       "        1.51932452e+11, -3.63631938e+10, -2.74680809e+11, -2.74680809e+11,\n",
       "       -2.74680809e+11, -2.74680809e+11, -2.74680809e+11, -2.74680809e+11,\n",
       "       -2.74680809e+11, -6.16953499e+03, -2.74680809e+11, -2.74680809e+11,\n",
       "       -2.74680809e+11,  1.66533454e-16,  3.05311332e-16, -2.74680809e+11,\n",
       "       -2.74680809e+11, -2.74680809e+11, -2.74680809e+11, -2.74680809e+11,\n",
       "        3.33066907e-16, -1.73472348e-16, -2.74680809e+11, -2.74680809e+11,\n",
       "       -2.74680809e+11, -2.74680809e+11, -2.74680809e+11, -2.74680809e+11,\n",
       "       -2.74680809e+11, -2.74680809e+11, -2.74680809e+11, -2.74680809e+11,\n",
       "       -2.74680809e+11, -2.74680809e+11, -2.74680809e+11, -2.74680809e+11,\n",
       "       -2.74680809e+11,  0.00000000e+00, -2.74680809e+11, -2.74680809e+11])"
      ]
     },
     "execution_count": 31,
     "metadata": {},
     "output_type": "execute_result"
    }
   ],
   "source": [
    "reg.coef_"
   ]
  },
  {
   "cell_type": "code",
   "execution_count": 32,
   "metadata": {
    "colab": {
     "base_uri": "https://localhost:8080/"
    },
    "id": "KMz0M49VkyZX",
    "outputId": "b4089fcc-bffc-45b6-d624-0375700ba6d8"
   },
   "outputs": [
    {
     "data": {
      "text/plain": [
       "190452513806.78598"
      ]
     },
     "execution_count": 32,
     "metadata": {},
     "output_type": "execute_result"
    }
   ],
   "source": [
    "reg.intercept_"
   ]
  },
  {
   "cell_type": "code",
   "execution_count": 33,
   "metadata": {
    "colab": {
     "base_uri": "https://localhost:8080/"
    },
    "id": "3U3Qs_FRn2fh",
    "outputId": "e46c9bce-a41c-4615-dd97-75a7051ed326"
   },
   "outputs": [
    {
     "data": {
      "text/plain": [
       "-4.2089587209352826e+23"
      ]
     },
     "execution_count": 33,
     "metadata": {},
     "output_type": "execute_result"
    }
   ],
   "source": [
    "r2_score(np.log1p(y_teste), y_pred)"
   ]
  },
  {
   "cell_type": "markdown",
   "metadata": {
    "id": "fUssX7kJXTMc"
   },
   "source": [
    "# Calculando medidas de erro para o modelo de regressão: MAE, MSE, RMSE"
   ]
  },
  {
   "cell_type": "code",
   "execution_count": 34,
   "metadata": {
    "colab": {
     "base_uri": "https://localhost:8080/"
    },
    "id": "t5yTZteJvPYh",
    "outputId": "32a41f07-574d-44e6-a07c-e84f5fcb0152"
   },
   "outputs": [
    {
     "data": {
      "text/plain": [
       "152790401252.81296"
      ]
     },
     "execution_count": 34,
     "metadata": {},
     "output_type": "execute_result"
    }
   ],
   "source": [
    "mean_absolute_error(np.log1p(y_teste), y_pred) # MAE"
   ]
  },
  {
   "cell_type": "code",
   "execution_count": 35,
   "metadata": {
    "colab": {
     "base_uri": "https://localhost:8080/"
    },
    "id": "RnwlMMuErbkj",
    "outputId": "4b7d6f59-2e1f-484a-fb05-9c4291a8468f"
   },
   "outputs": [
    {
     "data": {
      "text/plain": [
       "3.784076437683026e+23"
      ]
     },
     "execution_count": 35,
     "metadata": {},
     "output_type": "execute_result"
    }
   ],
   "source": [
    "mean_squared_error(np.log1p(y_teste), y_pred) # MSE"
   ]
  },
  {
   "cell_type": "code",
   "execution_count": 36,
   "metadata": {
    "colab": {
     "base_uri": "https://localhost:8080/"
    },
    "id": "99DW-aE6rd7J",
    "outputId": "0f11c727-d82d-4359-8c70-b8deed5c572c"
   },
   "outputs": [
    {
     "data": {
      "text/plain": [
       "615148472946.412"
      ]
     },
     "execution_count": 36,
     "metadata": {},
     "output_type": "execute_result"
    }
   ],
   "source": [
    "mean_squared_error(np.log1p(y_teste), y_pred, squared=False) # RMSE"
   ]
  },
  {
   "cell_type": "markdown",
   "metadata": {
    "id": "v5iKEkaysz3D"
   },
   "source": [
    "# Aplicando um modelo de KNN (K vizinhos mais próximos)"
   ]
  },
  {
   "cell_type": "code",
   "execution_count": 37,
   "metadata": {
    "id": "5024ntGVAs-z"
   },
   "outputs": [],
   "source": [
    "knn = KNeighborsRegressor()"
   ]
  },
  {
   "cell_type": "code",
   "execution_count": 38,
   "metadata": {
    "colab": {
     "base_uri": "https://localhost:8080/"
    },
    "id": "j2C3gGttBQ4q",
    "outputId": "b8107a68-f9f1-4a6d-d64e-fc8219a0c153"
   },
   "outputs": [
    {
     "data": {
      "text/plain": [
       "KNeighborsRegressor()"
      ]
     },
     "execution_count": 38,
     "metadata": {},
     "output_type": "execute_result"
    }
   ],
   "source": [
    "knn # hiperparâmetros"
   ]
  },
  {
   "cell_type": "code",
   "execution_count": 39,
   "metadata": {
    "colab": {
     "base_uri": "https://localhost:8080/"
    },
    "id": "SRXdy1v7BSL5",
    "outputId": "f9c16fbd-f081-4557-9d46-fe18d3f4d052"
   },
   "outputs": [
    {
     "data": {
      "text/plain": [
       "KNeighborsRegressor()"
      ]
     },
     "execution_count": 39,
     "metadata": {},
     "output_type": "execute_result"
    }
   ],
   "source": [
    "knn.fit(X_treino, y_treino)"
   ]
  },
  {
   "cell_type": "code",
   "execution_count": 40,
   "metadata": {
    "id": "ak6d2fhVBoNL"
   },
   "outputs": [],
   "source": [
    "y_pred_knn = knn.predict(np.log1p(X_teste))"
   ]
  },
  {
   "cell_type": "markdown",
   "metadata": {
    "id": "6VF5P9llX6lU"
   },
   "source": [
    "## Comparando as métricas entre KNN e Regressão Linear"
   ]
  },
  {
   "cell_type": "code",
   "execution_count": 41,
   "metadata": {
    "colab": {
     "base_uri": "https://localhost:8080/"
    },
    "id": "c696sOaZBwqf",
    "outputId": "fae78471-f6d7-49c9-e55a-a3c91868bff4"
   },
   "outputs": [
    {
     "name": "stdout",
     "output_type": "stream",
     "text": [
      "Métricas do KNN com 5 vizinhos\n",
      "O R² foi: 0.4850909898889967\n",
      "O MAE foi: 0.39603211531561905\n",
      "O MSE foi: 0.46293042576544163\n"
     ]
    }
   ],
   "source": [
    "print('Métricas do KNN com 5 vizinhos')\n",
    "print('O R² foi:' , knn.score(np.log1p(X_teste), np.log1p(y_teste)))\n",
    "print('O MAE foi:' , mean_absolute_error(np.log1p(y_teste), y_pred_knn))\n",
    "print('O MSE foi:' , mean_squared_error(np.log1p(y_teste), y_pred_knn))"
   ]
  },
  {
   "cell_type": "code",
   "execution_count": 42,
   "metadata": {
    "colab": {
     "base_uri": "https://localhost:8080/"
    },
    "id": "NkAPrkE2CNtV",
    "outputId": "7fa42381-2d0f-4f63-adad-d94fd60c9065"
   },
   "outputs": [
    {
     "name": "stdout",
     "output_type": "stream",
     "text": [
      "Métricas da Regressão Linear\n",
      "O R² foi: -4.2089587209352826e+23\n",
      "O MAE foi: 152790401252.81296\n",
      "O MSE foi: 3.784076437683026e+23\n"
     ]
    }
   ],
   "source": [
    "print('Métricas da Regressão Linear')\n",
    "print('O R² foi:' , reg.score(np.log1p(X_teste), np.log1p(y_teste)))\n",
    "print('O MAE foi:' , mean_absolute_error(np.log1p(y_teste), y_pred))\n",
    "print('O MSE foi:' , mean_squared_error(np.log1p(y_teste), y_pred))"
   ]
  },
  {
   "cell_type": "markdown",
   "metadata": {
    "id": "jVAW_hrCDhPc"
   },
   "source": [
    "# Aplicando um modelo de Árvore de Decisão"
   ]
  },
  {
   "cell_type": "code",
   "execution_count": 43,
   "metadata": {
    "id": "6pyIYQcpDenO"
   },
   "outputs": [],
   "source": [
    "dt = DecisionTreeRegressor(max_depth=3,)\n",
    "dt.fit(X_treino, y_treino)\n",
    "y_pred_dt = dt.predict(np.log1p(X_teste))"
   ]
  },
  {
   "cell_type": "markdown",
   "metadata": {
    "id": "LuJFqDIbgSp0"
   },
   "source": [
    "## Visualizando a Árvore de Decisão"
   ]
  },
  {
   "cell_type": "code",
   "execution_count": 44,
   "metadata": {
    "colab": {
     "base_uri": "https://localhost:8080/"
    },
    "id": "pJWjW534gZiP",
    "outputId": "7e596b51-08c9-47c0-8185-6e06622de446"
   },
   "outputs": [
    {
     "data": {
      "text/plain": [
       "Index(['area', 'rooms', 'bathrooms', 'garages', 'neighborhood_ Bonfim',\n",
       "       'neighborhood_ Bosque', 'neighborhood_ Botafogo',\n",
       "       'neighborhood_ Cambuí', 'neighborhood_ Centro',\n",
       "       'neighborhood_ Chácara Primavera', 'neighborhood_ Chácara da Barra',\n",
       "       'neighborhood_ Fazenda Santa Cândida',\n",
       "       'neighborhood_ Fazenda São Quirino', 'neighborhood_ Guanabara',\n",
       "       'neighborhood_ Jardim Antonio Von Zuben',\n",
       "       'neighborhood_ Jardim Chapadão', 'neighborhood_ Jardim Flamboyant',\n",
       "       'neighborhood_ Jardim Florence', 'neighborhood_ Jardim Guarani',\n",
       "       'neighborhood_ Jardim Leonor', 'neighborhood_ Jardim Madalena',\n",
       "       'neighborhood_ Jardim Márcia', 'neighborhood_ Jardim Nova Europa',\n",
       "       'neighborhood_ Jardim Paulistano', 'neighborhood_ Jardim Proença',\n",
       "       'neighborhood_ Jardim São Gabriel', 'neighborhood_ Jardim Von Zuben',\n",
       "       'neighborhood_ Jardim das Bandeiras', 'neighborhood_ Jardim do Lago II',\n",
       "       'neighborhood_ Loteamento Country Ville',\n",
       "       'neighborhood_ Mansões Santo Antônio', 'neighborhood_ Parque Brasília',\n",
       "       'neighborhood_ Parque Dom Pedro II', 'neighborhood_ Parque Industrial',\n",
       "       'neighborhood_ Parque Itália', 'neighborhood_ Parque Jambeiro',\n",
       "       'neighborhood_ Parque Prado', 'neighborhood_ Parque Taquaral',\n",
       "       'neighborhood_ Parque das Universidades', 'neighborhood_ Ponte Preta',\n",
       "       'neighborhood_ Recanto do Sol I', 'neighborhood_ SP',\n",
       "       'neighborhood_ Swift', 'neighborhood_ Swiss Park',\n",
       "       'neighborhood_ São Bernardo', 'neighborhood_ Taquaral',\n",
       "       'neighborhood_ Vila Estanislau', 'neighborhood_ Vila Industrial',\n",
       "       'neighborhood_ Vila Itapura', 'neighborhood_ Vila João Jorge',\n",
       "       'neighborhood_ Vila Marieta',\n",
       "       'neighborhood_ Vila Padre Manoel de Nóbrega'],\n",
       "      dtype='object')"
      ]
     },
     "execution_count": 44,
     "metadata": {},
     "output_type": "execute_result"
    }
   ],
   "source": [
    "X_treino.columns"
   ]
  },
  {
   "cell_type": "code",
   "execution_count": 45,
   "metadata": {
    "colab": {
     "base_uri": "https://localhost:8080/",
     "height": 575
    },
    "id": "lcoJe3i7ftu9",
    "outputId": "1cf58f31-8bd5-4b38-e2d0-d56910849b6c"
   },
   "outputs": [
    {
     "data": {
      "image/png": "[encoded data removed]",
      "text/plain": [
       "<Figure size 1080x720 with 1 Axes>"
      ]
     },
     "metadata": {
      "needs_background": "light"
     },
     "output_type": "display_data"
    }
   ],
   "source": [
    "plt.figure(figsize=(15, 10))\n",
    "\n",
    "plot_tree(dt, feature_names=X_treino.columns, filled=True);"
   ]
  },
  {
   "cell_type": "code",
   "execution_count": 46,
   "metadata": {
    "colab": {
     "base_uri": "https://localhost:8080/"
    },
    "id": "x3VcfAOoj3e9",
    "outputId": "d6afc7fd-d5ec-40c9-c763-903c860e7ad7"
   },
   "outputs": [
    {
     "name": "stdout",
     "output_type": "stream",
     "text": [
      "('area', 0.19472874055427847)\n",
      "---\n",
      "('rooms', 0.0)\n",
      "---\n",
      "('bathrooms', 0.09330757842936749)\n",
      "---\n",
      "('garages', 0.5507176895746853)\n",
      "---\n",
      "('neighborhood_ Bonfim', 0.0)\n",
      "---\n",
      "('neighborhood_ Bosque', 0.0)\n",
      "---\n",
      "('neighborhood_ Botafogo', 0.0)\n",
      "---\n",
      "('neighborhood_ Cambuí', 0.10695300452772626)\n",
      "---\n",
      "('neighborhood_ Centro', 0.0)\n",
      "---\n",
      "('neighborhood_ Chácara Primavera', 0.0)\n",
      "---\n",
      "('neighborhood_ Chácara da Barra', 0.0)\n",
      "---\n",
      "('neighborhood_ Fazenda Santa Cândida', 0.0)\n",
      "---\n",
      "('neighborhood_ Fazenda São Quirino', 0.0)\n",
      "---\n",
      "('neighborhood_ Guanabara', 0.0)\n",
      "---\n",
      "('neighborhood_ Jardim Antonio Von Zuben', 0.0)\n",
      "---\n",
      "('neighborhood_ Jardim Chapadão', 0.0)\n",
      "---\n",
      "('neighborhood_ Jardim Flamboyant', 0.0)\n",
      "---\n",
      "('neighborhood_ Jardim Florence', 0.0)\n",
      "---\n",
      "('neighborhood_ Jardim Guarani', 0.0)\n",
      "---\n",
      "('neighborhood_ Jardim Leonor', 0.0)\n",
      "---\n",
      "('neighborhood_ Jardim Madalena', 0.0)\n",
      "---\n",
      "('neighborhood_ Jardim Márcia', 0.0)\n",
      "---\n",
      "('neighborhood_ Jardim Nova Europa', 0.0)\n",
      "---\n",
      "('neighborhood_ Jardim Paulistano', 0.0)\n",
      "---\n",
      "('neighborhood_ Jardim Proença', 0.0)\n",
      "---\n",
      "('neighborhood_ Jardim São Gabriel', 0.0)\n",
      "---\n",
      "('neighborhood_ Jardim Von Zuben', 0.0)\n",
      "---\n",
      "('neighborhood_ Jardim das Bandeiras', 0.0)\n",
      "---\n",
      "('neighborhood_ Jardim do Lago II', 0.0)\n",
      "---\n",
      "('neighborhood_ Loteamento Country Ville', 0.0)\n",
      "---\n",
      "('neighborhood_ Mansões Santo Antônio', 0.0)\n",
      "---\n",
      "('neighborhood_ Parque Brasília', 0.0)\n",
      "---\n",
      "('neighborhood_ Parque Dom Pedro II', 0.0)\n",
      "---\n",
      "('neighborhood_ Parque Industrial', 0.0)\n",
      "---\n",
      "('neighborhood_ Parque Itália', 0.0)\n",
      "---\n",
      "('neighborhood_ Parque Jambeiro', 0.0)\n",
      "---\n",
      "('neighborhood_ Parque Prado', 0.0)\n",
      "---\n",
      "('neighborhood_ Parque Taquaral', 0.0)\n",
      "---\n",
      "('neighborhood_ Parque das Universidades', 0.0)\n",
      "---\n",
      "('neighborhood_ Ponte Preta', 0.0)\n",
      "---\n",
      "('neighborhood_ Recanto do Sol I', 0.0)\n",
      "---\n",
      "('neighborhood_ SP', 0.05429298691394244)\n",
      "---\n",
      "('neighborhood_ Swift', 0.0)\n",
      "---\n",
      "('neighborhood_ Swiss Park', 0.0)\n",
      "---\n",
      "('neighborhood_ São Bernardo', 0.0)\n",
      "---\n",
      "('neighborhood_ Taquaral', 0.0)\n",
      "---\n",
      "('neighborhood_ Vila Estanislau', 0.0)\n",
      "---\n",
      "('neighborhood_ Vila Industrial', 0.0)\n",
      "---\n",
      "('neighborhood_ Vila Itapura', 0.0)\n",
      "---\n",
      "('neighborhood_ Vila João Jorge', 0.0)\n",
      "---\n",
      "('neighborhood_ Vila Marieta', 0.0)\n",
      "---\n",
      "('neighborhood_ Vila Padre Manoel de Nóbrega', 0.0)\n",
      "---\n"
     ]
    }
   ],
   "source": [
    "for feature in zip(X_treino.columns, dt.feature_importances_):\n",
    "  print(feature)\n",
    "  print('---')"
   ]
  },
  {
   "cell_type": "code",
   "execution_count": 47,
   "metadata": {
    "colab": {
     "base_uri": "https://localhost:8080/"
    },
    "id": "TUTQUhL_CddT",
    "outputId": "d567faca-f756-481d-e8a7-d6aaad74769b"
   },
   "outputs": [
    {
     "data": {
      "text/plain": [
       "0.6592993647520573"
      ]
     },
     "execution_count": 47,
     "metadata": {},
     "output_type": "execute_result"
    }
   ],
   "source": [
    "dt.score(np.log1p(X_teste), np.log1p(y_teste))"
   ]
  },
  {
   "cell_type": "code",
   "execution_count": 48,
   "metadata": {
    "colab": {
     "base_uri": "https://localhost:8080/"
    },
    "id": "UD1yXLiZCrI7",
    "outputId": "cec7b951-75e9-45d9-9848-6eafc22d6fb2"
   },
   "outputs": [
    {
     "name": "stdout",
     "output_type": "stream",
     "text": [
      "Métricas da Árvore de Decisão\n",
      "O R² foi: 0.6592993647520573\n",
      "O MAE foi: 0.3816460683763838\n",
      "O MSE foi: 0.3063078855425065\n"
     ]
    }
   ],
   "source": [
    "print('Métricas da Árvore de Decisão')\n",
    "print('O R² foi:' , dt.score(np.log1p(X_teste), np.log1p(y_teste)))\n",
    "print('O MAE foi:' , mean_absolute_error(np.log1p(y_teste), y_pred_dt))\n",
    "print('O MSE foi:' , mean_squared_error(np.log1p(y_teste), y_pred_dt))"
   ]
  },
  {
   "cell_type": "code",
   "execution_count": 49,
   "metadata": {
    "colab": {
     "base_uri": "https://localhost:8080/"
    },
    "id": "TIxqm7THLCkV",
    "outputId": "11ae57be-4a70-484b-f5ce-57c3b8dfdf4c"
   },
   "outputs": [
    {
     "name": "stdout",
     "output_type": "stream",
     "text": [
      "Métricas da Árvore de Decisão\n",
      "O R² foi: 0.7061481372079144\n"
     ]
    }
   ],
   "source": [
    "print('Métricas da Árvore de Decisão')\n",
    "print('O R² foi:' , dt.score(X_treino, y_treino))"
   ]
  },
  {
   "cell_type": "markdown",
   "metadata": {
    "id": "QN6Db0xzmEY_"
   },
   "source": [
    "# Aplicando o modelo Random Forest Regressor nos dados"
   ]
  },
  {
   "cell_type": "code",
   "execution_count": 50,
   "metadata": {
    "id": "oONke4WsmJiw"
   },
   "outputs": [],
   "source": [
    "rfr = RandomForestRegressor(random_state=SEED)"
   ]
  },
  {
   "cell_type": "markdown",
   "metadata": {
    "id": "BmO6961TFckK"
   },
   "source": [
    "# Usando o score de validação cruzada para escolher um modelo"
   ]
  },
  {
   "cell_type": "code",
   "execution_count": 51,
   "metadata": {
    "id": "XRK_gnN1F44J"
   },
   "outputs": [],
   "source": [
    "cv_base = cross_val_score(baseline, X_treino, y_treino)\n",
    "cv_reg = cross_val_score(reg, X_treino, y_treino)\n",
    "cv_knn = cross_val_score(knn, X_treino, y_treino)\n",
    "cv_dt = cross_val_score(dt, X_treino, y_treino)\n",
    "cv_rfr = cross_val_score(rfr, X_treino, y_treino)"
   ]
  },
  {
   "cell_type": "code",
   "execution_count": 52,
   "metadata": {
    "colab": {
     "base_uri": "https://localhost:8080/"
    },
    "id": "neIfcbCMGWFk",
    "outputId": "d8ba7bdb-1acf-4ecf-92d0-a94f0389ca50"
   },
   "outputs": [
    {
     "data": {
      "text/plain": [
       "array([-0.00018547, -0.0006847 , -0.0254055 , -0.0867561 , -0.04405446])"
      ]
     },
     "execution_count": 52,
     "metadata": {},
     "output_type": "execute_result"
    }
   ],
   "source": [
    "cv_base"
   ]
  },
  {
   "cell_type": "code",
   "execution_count": 53,
   "metadata": {
    "colab": {
     "base_uri": "https://localhost:8080/"
    },
    "id": "HXuotPdLGX4m",
    "outputId": "233c6d9d-f328-4b23-d406-9eea2b3f2f0e"
   },
   "outputs": [
    {
     "name": "stdout",
     "output_type": "stream",
     "text": [
      "0: -0.03\n",
      "1: -595278138860095328485376.00\n",
      "2: 0.48\n",
      "3: -1.06\n",
      "4: 0.47\n"
     ]
    }
   ],
   "source": [
    "cvs = [cv_base, cv_reg, cv_knn, cv_dt, cv_rfr]\n",
    "\n",
    "for cv, pontuacoes in enumerate(cvs):\n",
    "  print(f'{cv}: {np.mean(pontuacoes):.2f}')"
   ]
  },
  {
   "cell_type": "markdown",
   "metadata": {
    "id": "mVCQygQzFGjr"
   },
   "source": [
    "## Usando a busca em grade com validação cruzada (Grid Search CV) para o Random Forest Regressor"
   ]
  },
  {
   "cell_type": "code",
   "execution_count": 54,
   "metadata": {
    "id": "hSbjjInarjf2"
   },
   "outputs": [],
   "source": [
    "parametros = {'max_depth': [5, 10, 30, 20],\n",
    "              'n_estimators': [100, 200, 150, 110]}"
   ]
  },
  {
   "cell_type": "code",
   "execution_count": 55,
   "metadata": {
    "id": "f_GbxR19oJXn"
   },
   "outputs": [],
   "source": [
    "gs = GridSearchCV(rfr, parametros, cv=5, scoring='r2', verbose=2)"
   ]
  },
  {
   "cell_type": "code",
   "execution_count": 56,
   "metadata": {
    "colab": {
     "base_uri": "https://localhost:8080/"
    },
    "id": "_ds7Ml0hswfs",
    "outputId": "270b1910-3a09-4ec7-9fd8-e2f8481ec903"
   },
   "outputs": [
    {
     "name": "stdout",
     "output_type": "stream",
     "text": [
      "Fitting 5 folds for each of 16 candidates, totalling 80 fits\n",
      "[CV] END ......................max_depth=5, n_estimators=100; total time=   0.1s\n",
      "[CV] END ......................max_depth=5, n_estimators=100; total time=   0.1s\n",
      "[CV] END ......................max_depth=5, n_estimators=100; total time=   0.1s\n",
      "[CV] END ......................max_depth=5, n_estimators=100; total time=   0.1s\n",
      "[CV] END ......................max_depth=5, n_estimators=100; total time=   0.1s\n",
      "[CV] END ......................max_depth=5, n_estimators=200; total time=   0.2s\n",
      "[CV] END ......................max_depth=5, n_estimators=200; total time=   0.2s\n",
      "[CV] END ......................max_depth=5, n_estimators=200; total time=   0.2s\n",
      "[CV] END ......................max_depth=5, n_estimators=200; total time=   0.2s\n",
      "[CV] END ......................max_depth=5, n_estimators=200; total time=   0.2s\n",
      "[CV] END ......................max_depth=5, n_estimators=150; total time=   0.1s\n",
      "[CV] END ......................max_depth=5, n_estimators=150; total time=   0.1s\n",
      "[CV] END ......................max_depth=5, n_estimators=150; total time=   0.1s\n",
      "[CV] END ......................max_depth=5, n_estimators=150; total time=   0.1s\n",
      "[CV] END ......................max_depth=5, n_estimators=150; total time=   0.1s\n",
      "[CV] END ......................max_depth=5, n_estimators=110; total time=   0.1s\n",
      "[CV] END ......................max_depth=5, n_estimators=110; total time=   0.1s\n",
      "[CV] END ......................max_depth=5, n_estimators=110; total time=   0.1s\n",
      "[CV] END ......................max_depth=5, n_estimators=110; total time=   0.1s\n",
      "[CV] END ......................max_depth=5, n_estimators=110; total time=   0.1s\n",
      "[CV] END .....................max_depth=10, n_estimators=100; total time=   0.1s\n",
      "[CV] END .....................max_depth=10, n_estimators=100; total time=   0.1s\n",
      "[CV] END .....................max_depth=10, n_estimators=100; total time=   0.1s\n",
      "[CV] END .....................max_depth=10, n_estimators=100; total time=   0.1s\n",
      "[CV] END .....................max_depth=10, n_estimators=100; total time=   0.1s\n",
      "[CV] END .....................max_depth=10, n_estimators=200; total time=   0.2s\n",
      "[CV] END .....................max_depth=10, n_estimators=200; total time=   0.2s\n",
      "[CV] END .....................max_depth=10, n_estimators=200; total time=   0.2s\n",
      "[CV] END .....................max_depth=10, n_estimators=200; total time=   0.2s\n",
      "[CV] END .....................max_depth=10, n_estimators=200; total time=   0.2s\n",
      "[CV] END .....................max_depth=10, n_estimators=150; total time=   0.2s\n",
      "[CV] END .....................max_depth=10, n_estimators=150; total time=   0.2s\n",
      "[CV] END .....................max_depth=10, n_estimators=150; total time=   0.2s\n",
      "[CV] END .....................max_depth=10, n_estimators=150; total time=   0.1s\n",
      "[CV] END .....................max_depth=10, n_estimators=150; total time=   0.1s\n",
      "[CV] END .....................max_depth=10, n_estimators=110; total time=   0.1s\n",
      "[CV] END .....................max_depth=10, n_estimators=110; total time=   0.1s\n",
      "[CV] END .....................max_depth=10, n_estimators=110; total time=   0.1s\n",
      "[CV] END .....................max_depth=10, n_estimators=110; total time=   0.1s\n",
      "[CV] END .....................max_depth=10, n_estimators=110; total time=   0.1s\n",
      "[CV] END .....................max_depth=30, n_estimators=100; total time=   0.1s\n",
      "[CV] END .....................max_depth=30, n_estimators=100; total time=   0.1s\n",
      "[CV] END .....................max_depth=30, n_estimators=100; total time=   0.1s\n",
      "[CV] END .....................max_depth=30, n_estimators=100; total time=   0.1s\n",
      "[CV] END .....................max_depth=30, n_estimators=100; total time=   0.1s\n",
      "[CV] END .....................max_depth=30, n_estimators=200; total time=   0.2s\n",
      "[CV] END .....................max_depth=30, n_estimators=200; total time=   0.2s\n",
      "[CV] END .....................max_depth=30, n_estimators=200; total time=   0.2s\n",
      "[CV] END .....................max_depth=30, n_estimators=200; total time=   0.2s\n",
      "[CV] END .....................max_depth=30, n_estimators=200; total time=   0.2s\n",
      "[CV] END .....................max_depth=30, n_estimators=150; total time=   0.2s\n",
      "[CV] END .....................max_depth=30, n_estimators=150; total time=   0.2s\n",
      "[CV] END .....................max_depth=30, n_estimators=150; total time=   0.2s\n",
      "[CV] END .....................max_depth=30, n_estimators=150; total time=   0.2s\n",
      "[CV] END .....................max_depth=30, n_estimators=150; total time=   0.2s\n",
      "[CV] END .....................max_depth=30, n_estimators=110; total time=   0.1s\n",
      "[CV] END .....................max_depth=30, n_estimators=110; total time=   0.1s\n",
      "[CV] END .....................max_depth=30, n_estimators=110; total time=   0.1s\n",
      "[CV] END .....................max_depth=30, n_estimators=110; total time=   0.1s\n",
      "[CV] END .....................max_depth=30, n_estimators=110; total time=   0.1s\n",
      "[CV] END .....................max_depth=20, n_estimators=100; total time=   0.1s\n",
      "[CV] END .....................max_depth=20, n_estimators=100; total time=   0.1s\n",
      "[CV] END .....................max_depth=20, n_estimators=100; total time=   0.1s\n",
      "[CV] END .....................max_depth=20, n_estimators=100; total time=   0.1s\n",
      "[CV] END .....................max_depth=20, n_estimators=100; total time=   0.1s\n",
      "[CV] END .....................max_depth=20, n_estimators=200; total time=   0.2s\n",
      "[CV] END .....................max_depth=20, n_estimators=200; total time=   0.2s\n",
      "[CV] END .....................max_depth=20, n_estimators=200; total time=   0.2s\n",
      "[CV] END .....................max_depth=20, n_estimators=200; total time=   0.2s\n",
      "[CV] END .....................max_depth=20, n_estimators=200; total time=   0.2s\n",
      "[CV] END .....................max_depth=20, n_estimators=150; total time=   0.2s\n",
      "[CV] END .....................max_depth=20, n_estimators=150; total time=   0.2s\n",
      "[CV] END .....................max_depth=20, n_estimators=150; total time=   0.2s\n",
      "[CV] END .....................max_depth=20, n_estimators=150; total time=   0.2s\n",
      "[CV] END .....................max_depth=20, n_estimators=150; total time=   0.2s\n",
      "[CV] END .....................max_depth=20, n_estimators=110; total time=   0.1s\n",
      "[CV] END .....................max_depth=20, n_estimators=110; total time=   0.1s\n",
      "[CV] END .....................max_depth=20, n_estimators=110; total time=   0.1s\n",
      "[CV] END .....................max_depth=20, n_estimators=110; total time=   0.1s\n",
      "[CV] END .....................max_depth=20, n_estimators=110; total time=   0.1s\n"
     ]
    },
    {
     "data": {
      "text/plain": [
       "GridSearchCV(cv=5, estimator=RandomForestRegressor(random_state=42),\n",
       "             param_grid={'max_depth': [5, 10, 30, 20],\n",
       "                         'n_estimators': [100, 200, 150, 110]},\n",
       "             scoring='r2', verbose=2)"
      ]
     },
     "execution_count": 56,
     "metadata": {},
     "output_type": "execute_result"
    }
   ],
   "source": [
    "gs.fit(X_treino, y_treino)"
   ]
  },
  {
   "cell_type": "code",
   "execution_count": 57,
   "metadata": {
    "colab": {
     "base_uri": "https://localhost:8080/"
    },
    "id": "MzhNhGRTtsQQ",
    "outputId": "e40d4d72-5a85-437f-9e07-903a9f6e5a33"
   },
   "outputs": [
    {
     "data": {
      "text/plain": [
       "0.4906927473087256"
      ]
     },
     "execution_count": 57,
     "metadata": {},
     "output_type": "execute_result"
    }
   ],
   "source": [
    "gs.best_score_"
   ]
  },
  {
   "cell_type": "code",
   "execution_count": 58,
   "metadata": {
    "colab": {
     "base_uri": "https://localhost:8080/"
    },
    "id": "U4fc37Jxt-pV",
    "outputId": "326f28cd-71d0-4dc4-c30f-e1fee9231c05"
   },
   "outputs": [
    {
     "data": {
      "text/plain": [
       "RandomForestRegressor(max_depth=5, n_estimators=150, random_state=42)"
      ]
     },
     "execution_count": 58,
     "metadata": {},
     "output_type": "execute_result"
    }
   ],
   "source": [
    "gs.best_estimator_"
   ]
  },
  {
   "cell_type": "code",
   "execution_count": 59,
   "metadata": {
    "colab": {
     "base_uri": "https://localhost:8080/"
    },
    "id": "gotoGcTTuG38",
    "outputId": "01ae1772-8fe1-4c2e-e0e4-ad765c82825e"
   },
   "outputs": [
    {
     "data": {
      "text/plain": [
       "{'max_depth': 5, 'n_estimators': 150}"
      ]
     },
     "execution_count": 59,
     "metadata": {},
     "output_type": "execute_result"
    }
   ],
   "source": [
    "gs.best_params_"
   ]
  },
  {
   "cell_type": "code",
   "execution_count": 60,
   "metadata": {
    "id": "LiPYjyZdvnaF"
   },
   "outputs": [],
   "source": [
    "resultados_gs = pd.DataFrame(gs.cv_results_)"
   ]
  },
  {
   "cell_type": "code",
   "execution_count": 61,
   "metadata": {
    "colab": {
     "base_uri": "https://localhost:8080/",
     "height": 467
    },
    "id": "rhGsnEmIwEXh",
    "outputId": "aa6b5deb-b4d9-4e95-8584-f400afc61bdb"
   },
   "outputs": [
    {
     "data": {
      "text/html": [
       "<div>\n",
       "<style scoped>\n",
       "    .dataframe tbody tr th:only-of-type {\n",
       "        vertical-align: middle;\n",
       "    }\n",
       "\n",
       "    .dataframe tbody tr th {\n",
       "        vertical-align: top;\n",
       "    }\n",
       "\n",
       "    .dataframe thead th {\n",
       "        text-align: right;\n",
       "    }\n",
       "</style>\n",
       "<table border=\"1\" class=\"dataframe\">\n",
       "  <thead>\n",
       "    <tr style=\"text-align: right;\">\n",
       "      <th></th>\n",
       "      <th>mean_fit_time</th>\n",
       "      <th>std_fit_time</th>\n",
       "      <th>mean_score_time</th>\n",
       "      <th>std_score_time</th>\n",
       "      <th>param_max_depth</th>\n",
       "      <th>param_n_estimators</th>\n",
       "      <th>params</th>\n",
       "      <th>split0_test_score</th>\n",
       "      <th>split1_test_score</th>\n",
       "      <th>split2_test_score</th>\n",
       "      <th>split3_test_score</th>\n",
       "      <th>split4_test_score</th>\n",
       "      <th>mean_test_score</th>\n",
       "      <th>std_test_score</th>\n",
       "      <th>rank_test_score</th>\n",
       "    </tr>\n",
       "  </thead>\n",
       "  <tbody>\n",
       "    <tr>\n",
       "      <th>2</th>\n",
       "      <td>0.131287</td>\n",
       "      <td>0.001285</td>\n",
       "      <td>0.010184</td>\n",
       "      <td>0.000181</td>\n",
       "      <td>5</td>\n",
       "      <td>150</td>\n",
       "      <td>{'max_depth': 5, 'n_estimators': 150}</td>\n",
       "      <td>0.672132</td>\n",
       "      <td>0.759071</td>\n",
       "      <td>0.661485</td>\n",
       "      <td>-0.070269</td>\n",
       "      <td>0.431045</td>\n",
       "      <td>0.490693</td>\n",
       "      <td>0.300783</td>\n",
       "      <td>1</td>\n",
       "    </tr>\n",
       "    <tr>\n",
       "      <th>0</th>\n",
       "      <td>0.090552</td>\n",
       "      <td>0.002955</td>\n",
       "      <td>0.007489</td>\n",
       "      <td>0.000305</td>\n",
       "      <td>5</td>\n",
       "      <td>100</td>\n",
       "      <td>{'max_depth': 5, 'n_estimators': 100}</td>\n",
       "      <td>0.663378</td>\n",
       "      <td>0.747738</td>\n",
       "      <td>0.656871</td>\n",
       "      <td>-0.082304</td>\n",
       "      <td>0.429861</td>\n",
       "      <td>0.483109</td>\n",
       "      <td>0.301744</td>\n",
       "      <td>2</td>\n",
       "    </tr>\n",
       "    <tr>\n",
       "      <th>3</th>\n",
       "      <td>0.097588</td>\n",
       "      <td>0.002355</td>\n",
       "      <td>0.008400</td>\n",
       "      <td>0.000466</td>\n",
       "      <td>5</td>\n",
       "      <td>110</td>\n",
       "      <td>{'max_depth': 5, 'n_estimators': 110}</td>\n",
       "      <td>0.666121</td>\n",
       "      <td>0.750933</td>\n",
       "      <td>0.653877</td>\n",
       "      <td>-0.116162</td>\n",
       "      <td>0.434943</td>\n",
       "      <td>0.477942</td>\n",
       "      <td>0.314864</td>\n",
       "      <td>3</td>\n",
       "    </tr>\n",
       "    <tr>\n",
       "      <th>4</th>\n",
       "      <td>0.098473</td>\n",
       "      <td>0.002672</td>\n",
       "      <td>0.008123</td>\n",
       "      <td>0.000352</td>\n",
       "      <td>10</td>\n",
       "      <td>100</td>\n",
       "      <td>{'max_depth': 10, 'n_estimators': 100}</td>\n",
       "      <td>0.700117</td>\n",
       "      <td>0.776052</td>\n",
       "      <td>0.615311</td>\n",
       "      <td>-0.130991</td>\n",
       "      <td>0.423701</td>\n",
       "      <td>0.476838</td>\n",
       "      <td>0.325833</td>\n",
       "      <td>4</td>\n",
       "    </tr>\n",
       "    <tr>\n",
       "      <th>6</th>\n",
       "      <td>0.142479</td>\n",
       "      <td>0.004043</td>\n",
       "      <td>0.010650</td>\n",
       "      <td>0.000373</td>\n",
       "      <td>10</td>\n",
       "      <td>150</td>\n",
       "      <td>{'max_depth': 10, 'n_estimators': 150}</td>\n",
       "      <td>0.706296</td>\n",
       "      <td>0.788337</td>\n",
       "      <td>0.627437</td>\n",
       "      <td>-0.174294</td>\n",
       "      <td>0.427740</td>\n",
       "      <td>0.475103</td>\n",
       "      <td>0.346044</td>\n",
       "      <td>5</td>\n",
       "    </tr>\n",
       "  </tbody>\n",
       "</table>\n",
       "</div>"
      ],
      "text/plain": [
       "   mean_fit_time  std_fit_time  mean_score_time  std_score_time  \\\n",
       "2       0.131287      0.001285         0.010184        0.000181   \n",
       "0       0.090552      0.002955         0.007489        0.000305   \n",
       "3       0.097588      0.002355         0.008400        0.000466   \n",
       "4       0.098473      0.002672         0.008123        0.000352   \n",
       "6       0.142479      0.004043         0.010650        0.000373   \n",
       "\n",
       "  param_max_depth param_n_estimators                                  params  \\\n",
       "2               5                150   {'max_depth': 5, 'n_estimators': 150}   \n",
       "0               5                100   {'max_depth': 5, 'n_estimators': 100}   \n",
       "3               5                110   {'max_depth': 5, 'n_estimators': 110}   \n",
       "4              10                100  {'max_depth': 10, 'n_estimators': 100}   \n",
       "6              10                150  {'max_depth': 10, 'n_estimators': 150}   \n",
       "\n",
       "   split0_test_score  split1_test_score  split2_test_score  split3_test_score  \\\n",
       "2           0.672132           0.759071           0.661485          -0.070269   \n",
       "0           0.663378           0.747738           0.656871          -0.082304   \n",
       "3           0.666121           0.750933           0.653877          -0.116162   \n",
       "4           0.700117           0.776052           0.615311          -0.130991   \n",
       "6           0.706296           0.788337           0.627437          -0.174294   \n",
       "\n",
       "   split4_test_score  mean_test_score  std_test_score  rank_test_score  \n",
       "2           0.431045         0.490693        0.300783                1  \n",
       "0           0.429861         0.483109        0.301744                2  \n",
       "3           0.434943         0.477942        0.314864                3  \n",
       "4           0.423701         0.476838        0.325833                4  \n",
       "6           0.427740         0.475103        0.346044                5  "
      ]
     },
     "execution_count": 61,
     "metadata": {},
     "output_type": "execute_result"
    }
   ],
   "source": [
    "resultados_gs.sort_values(by='mean_test_score', ascending=False).head()"
   ]
  },
  {
   "cell_type": "code",
   "execution_count": 62,
   "metadata": {
    "id": "xM6yOhFNn0BA"
   },
   "outputs": [],
   "source": [
    "rfr_tunado = RandomForestRegressor(max_depth=5, \n",
    "                                   n_estimators=200, \n",
    "                                   random_state=SEED)"
   ]
  },
  {
   "cell_type": "code",
   "execution_count": 63,
   "metadata": {
    "colab": {
     "base_uri": "https://localhost:8080/"
    },
    "id": "fXRUeZ6xxWjo",
    "outputId": "fef11b6e-e9f7-4324-e0e8-3fa911dbe43f"
   },
   "outputs": [
    {
     "name": "stdout",
     "output_type": "stream",
     "text": [
      "O R² final do Random Forest após a busca de hiperparâmetros e a validação cruzada é: 0.6559533110067344\n"
     ]
    }
   ],
   "source": [
    "rfr_tunado.fit(X_treino, y_treino)\n",
    "y_pred_rfr_tunado = rfr_tunado.predict(X_teste)\n",
    "print('O R² final do Random Forest após a busca de hiperparâmetros e a validação cruzada é:', rfr_tunado.score(np.log1p(X_teste), np.log1p(y_teste)))"
   ]
  },
  {
   "cell_type": "markdown",
   "metadata": {
    "id": "H1rBfjkPyJnA"
   },
   "source": [
    "# Salvando o modelo"
   ]
  },
  {
   "cell_type": "code",
   "execution_count": 64,
   "metadata": {
    "id": "416KieQ_yIj8"
   },
   "outputs": [],
   "source": [
    "import pickle"
   ]
  },
  {
   "cell_type": "code",
   "execution_count": 65,
   "metadata": {
    "id": "RfevxnYByfvK"
   },
   "outputs": [],
   "source": [
    "# para criar o arquivo do pickle, .pkl, fazemos um pickle.dump\n",
    "# passando o nome do modelo que queremos salvar, o nome do arquivo dentro de open\n",
    "# e a escrita em binário com wb (write binary)\n",
    "pickle.dump(rfr_tunado, open('modelo_rfr.pkl', 'wb'))"
   ]
  },
  {
   "cell_type": "code",
   "execution_count": 66,
   "metadata": {
    "id": "RJgT0pKBzZUT"
   },
   "outputs": [],
   "source": [
    "modelo_final = pickle.load(open('modelo_rfr.pkl', 'rb'))"
   ]
  },
  {
   "cell_type": "code",
   "execution_count": 67,
   "metadata": {
    "colab": {
     "base_uri": "https://localhost:8080/"
    },
    "id": "ij8h-34hztO8",
    "outputId": "56e3a0fd-65a8-43dd-cb27-46c6e5efef1c"
   },
   "outputs": [
    {
     "data": {
      "text/plain": [
       "0.6559533110067344"
      ]
     },
     "execution_count": 67,
     "metadata": {},
     "output_type": "execute_result"
    }
   ],
   "source": [
    "modelo_final.score(np.log1p(X_teste), np.log1p(y_teste))"
   ]
  },
  {
   "cell_type": "code",
   "execution_count": null,
   "metadata": {
    "id": "w5y5cpFJ0SIL"
   },
   "outputs": [],
   "source": [
    "# # depois de 5 anos se precisarmos recalibrar o modelo\n",
    "# modelo = pickle.load(open('modelo_rfr_tunado.pkl', 'rb'))\n",
    "# modelo.fit(X_treino, y_treino)\n",
    "# gs_pos_5_anos = GridSearchCV(modelo, parametros)\n",
    "# gs_pos_5_anos.best_estimator_"
   ]
  }
 ],
 "metadata": {
  "colab": {
   "collapsed_sections": [
    "owMwndsSVhGu",
    "oPyat1siWkzt",
    "98aJT7f3V-Ww",
    "9E9ZbdE2WG2S"
   ],
   "name": "machine_learning_aula_12_oh_com_log1p.ipynb",
   "provenance": []
  },
  "kernelspec": {
   "display_name": "Python 3 (ipykernel)",
   "language": "python",
   "name": "python3"
  },
  "language_info": {
   "codemirror_mode": {
    "name": "ipython",
    "version": 3
   },
   "file_extension": ".py",
   "mimetype": "text/x-python",
   "name": "python",
   "nbconvert_exporter": "python",
   "pygments_lexer": "ipython3",
   "version": "3.9.7"
  }
 },
 "nbformat": 4,
 "nbformat_minor": 1
}
